{
 "cells": [
  {
   "cell_type": "markdown",
   "id": "9a9ada08-c9f0-466f-91a0-265fa539f9f5",
   "metadata": {},
   "source": [
    "# Where to focus a marketing campaign? \n",
    " Created by Angel Hernandez\n",
    "\n",
    "\n",
    "## 📖 Background\n",
    "You are a data analyst at a crowdfunding site. For the next quarter, your company will be running a marketing campaign. The marketing manager wants to target those segments that have donated the most in the past year. She turned to you to help her with her upcoming meeting with the CEO.\n",
    "\n",
    "![crowdfunding.jpg](BestCrowdfundingSites_resized-03.jpg)"
   ]
  },
  {
   "cell_type": "markdown",
   "id": "5cc8bb6f-c643-41cc-81de-7a649133b153",
   "metadata": {},
   "source": [
    "# Contents\n",
    "\n",
    "1. Objective\n",
    "\n",
    "2. Highest-Earning Categories\n",
    "\n",
    "3. Most Contributions by Device Type\n",
    "\n",
    "4. Most Contributions by Age Group\n",
    "\n",
    "5. Conbined Visualization (Treemap)"
   ]
  },
  {
   "cell_type": "markdown",
   "id": "4a30035f-832c-4a8b-b207-0ebb3a09e9a7",
   "metadata": {},
   "source": [
    "## Objective\n",
    "To target the segments that have donated most in order to run a successful marketing campaign. Thus we seek to create a single visualization that can answer these three questions:\n",
    "1. What are the top three categories in terms of total donations? \n",
    "2. What device type has historically provided the most contributions? \n",
    "3. What age bracket should the campaign target?\n"
   ]
  },
  {
   "cell_type": "markdown",
   "id": "8fcda472-02aa-4220-9f95-5cb15f383804",
   "metadata": {},
   "source": [
    "## Final Summary\n",
    "Overall, we saw that Games, Sports, and Technology were the highest contributing categories. However, **for 18-24 year old iOS users, Games, Environment, and Fashon were the highest-earning segments. Therefore, these would be the best sectors to target for a marketing campaign.** Visualization is provided below."
   ]
  },
  {
   "cell_type": "markdown",
   "id": "b03cfddb-8d48-487f-a5b6-f87f596d79a9",
   "metadata": {},
   "source": [
    "The columns in our dataset are as follows:\n",
    "\n",
    "#### Historic crowdfunding donations\n",
    "- \"category\" - \"Sports\", \"Fashion\", \"Technology\", etc.\n",
    "- \"device\" - the type of device used.\n",
    "- \"gender\" - gender of the user.\n",
    "- \"age range\" - one of five age brackets.\n",
    "- \"amount\" - how much the user donated in Euros.\n",
    "\n",
    "Now, we import and take a look at the data:"
   ]
  },
  {
   "cell_type": "code",
   "execution_count": null,
   "id": "40251159-3eea-47f8-bfb4-09e38d5ced65",
   "metadata": {},
   "outputs": [
    {
     "data": {
      "application/com.datacamp.data-table.v1+json": {
       "is_truncated": false,
       "table": {
        "data": [
         {
          "age": "45-54",
          "amount": 61,
          "category": "Fashion",
          "device": "iOS",
          "gender": "F",
          "index": 0
         },
         {
          "age": "18-24",
          "amount": 31,
          "category": "Sports",
          "device": "android",
          "gender": "M",
          "index": 1
         },
         {
          "age": "18-24",
          "amount": 39,
          "category": "Technology",
          "device": "android",
          "gender": "M",
          "index": 2
         },
         {
          "age": "18-24",
          "amount": 36,
          "category": "Technology",
          "device": "iOS",
          "gender": "M",
          "index": 3
         },
         {
          "age": "18-24",
          "amount": 40,
          "category": "Sports",
          "device": "android",
          "gender": "M",
          "index": 4
         }
        ],
        "schema": {
         "fields": [
          {
           "name": "index",
           "type": "integer"
          },
          {
           "name": "category",
           "type": "string"
          },
          {
           "name": "device",
           "type": "string"
          },
          {
           "name": "gender",
           "type": "string"
          },
          {
           "name": "age",
           "type": "string"
          },
          {
           "name": "amount",
           "type": "number"
          }
         ],
         "pandas_version": "0.20.0",
         "primaryKey": [
          "index"
         ]
        }
       },
       "total_rows": 5
      },
      "text/html": [
       "<div>\n",
       "<style scoped>\n",
       "    .dataframe tbody tr th:only-of-type {\n",
       "        vertical-align: middle;\n",
       "    }\n",
       "\n",
       "    .dataframe tbody tr th {\n",
       "        vertical-align: top;\n",
       "    }\n",
       "\n",
       "    .dataframe thead th {\n",
       "        text-align: right;\n",
       "    }\n",
       "</style>\n",
       "<table border=\"1\" class=\"dataframe\">\n",
       "  <thead>\n",
       "    <tr style=\"text-align: right;\">\n",
       "      <th></th>\n",
       "      <th>category</th>\n",
       "      <th>device</th>\n",
       "      <th>gender</th>\n",
       "      <th>age</th>\n",
       "      <th>amount</th>\n",
       "    </tr>\n",
       "  </thead>\n",
       "  <tbody>\n",
       "    <tr>\n",
       "      <th>0</th>\n",
       "      <td>Fashion</td>\n",
       "      <td>iOS</td>\n",
       "      <td>F</td>\n",
       "      <td>45-54</td>\n",
       "      <td>61.0</td>\n",
       "    </tr>\n",
       "    <tr>\n",
       "      <th>1</th>\n",
       "      <td>Sports</td>\n",
       "      <td>android</td>\n",
       "      <td>M</td>\n",
       "      <td>18-24</td>\n",
       "      <td>31.0</td>\n",
       "    </tr>\n",
       "    <tr>\n",
       "      <th>2</th>\n",
       "      <td>Technology</td>\n",
       "      <td>android</td>\n",
       "      <td>M</td>\n",
       "      <td>18-24</td>\n",
       "      <td>39.0</td>\n",
       "    </tr>\n",
       "    <tr>\n",
       "      <th>3</th>\n",
       "      <td>Technology</td>\n",
       "      <td>iOS</td>\n",
       "      <td>M</td>\n",
       "      <td>18-24</td>\n",
       "      <td>36.0</td>\n",
       "    </tr>\n",
       "    <tr>\n",
       "      <th>4</th>\n",
       "      <td>Sports</td>\n",
       "      <td>android</td>\n",
       "      <td>M</td>\n",
       "      <td>18-24</td>\n",
       "      <td>40.0</td>\n",
       "    </tr>\n",
       "  </tbody>\n",
       "</table>\n",
       "</div>"
      ],
      "text/plain": [
       "     category   device gender    age  amount\n",
       "0     Fashion      iOS      F  45-54    61.0\n",
       "1      Sports  android      M  18-24    31.0\n",
       "2  Technology  android      M  18-24    39.0\n",
       "3  Technology      iOS      M  18-24    36.0\n",
       "4      Sports  android      M  18-24    40.0"
      ]
     },
     "execution_count": 1,
     "metadata": {},
     "output_type": "execute_result"
    }
   ],
   "source": [
    "import pandas as pd\n",
    "import plotly.express as px\n",
    "import matplotlib.pyplot as plt\n",
    "import numpy as np\n",
    "import seaborn as sns\n",
    "\n",
    "sns.set()\n",
    "sns.set_context('notebook')\n",
    "df = pd.read_csv('./data/crowdfunding.csv')\n",
    "df.head()"
   ]
  },
  {
   "cell_type": "markdown",
   "id": "015e2d3c-1600-4e12-b0f5-467ee6d8ca00",
   "metadata": {},
   "source": [
    "Before we begin, we want to make sure our dataset contains no missing values:"
   ]
  },
  {
   "cell_type": "code",
   "execution_count": null,
   "id": "6e6730f0-b987-4d37-a44f-b2d4e349e35a",
   "metadata": {},
   "outputs": [
    {
     "data": {
      "text/plain": [
       "category    0\n",
       "device      0\n",
       "gender      0\n",
       "age         0\n",
       "amount      0\n",
       "dtype: int64"
      ]
     },
     "execution_count": 2,
     "metadata": {},
     "output_type": "execute_result"
    }
   ],
   "source": [
    "df.isna().sum()"
   ]
  },
  {
   "cell_type": "markdown",
   "id": "250106bf-40a3-44f9-aaf3-c6ff510de96d",
   "metadata": {},
   "source": [
    "## Highest-Earning Categories \n",
    "Now, we take a look at which categories donated the most as a whole:"
   ]
  },
  {
   "cell_type": "code",
   "execution_count": null,
   "id": "39b5f160-2954-4ff3-a8f5-55b066f7782e",
   "metadata": {},
   "outputs": [
    {
     "name": "stdout",
     "output_type": "stream",
     "text": [
      "category\n",
      "Games          165483.0\n",
      "Sports         163528.0\n",
      "Technology     162731.0\n",
      "Environment    162376.0\n",
      "Fashion        159952.0\n",
      "Name: amount, dtype: float64\n"
     ]
    },
    {
     "data": {
      "image/png": "[encoded data removed]",
      "text/plain": [
       "<Figure size 576x432 with 1 Axes>"
      ]
     },
     "metadata": {},
     "output_type": "display_data"
    }
   ],
   "source": [
    "biggest_cats = df.groupby('category')['amount'].sum().sort_values(ascending=False)\n",
    "print(biggest_cats)\n",
    "plt.subplots(figsize = (8,6))\n",
    "biggest_cats.plot(kind='barh', xlabel='', ylabel='Amount($)', title='Total Donations by Category')\n",
    "plt.show()"
   ]
  },
  {
   "cell_type": "markdown",
   "id": "50cb6bc4-3de4-4192-8dd8-45d0e8f53781",
   "metadata": {},
   "source": [
    "The categories all have very similar total donations, but we see that **Games, Sports, and Technology are the top three**, in that order. "
   ]
  },
  {
   "cell_type": "markdown",
   "id": "2ced6dba-0996-4f0c-8813-1d5fffb4707d",
   "metadata": {},
   "source": [
    "## Most Contributions by Device Type\n",
    "Now we need to see if more contributions came from iOS or Andriod users:"
   ]
  },
  {
   "cell_type": "code",
   "execution_count": null,
   "id": "c2f0a706-1f7f-463a-8575-03a4062a1ea7",
   "metadata": {},
   "outputs": [
    {
     "data": {
      "image/png": "[encoded data removed]",
      "text/plain": [
       "<Figure size 432x288 with 1 Axes>"
      ]
     },
     "metadata": {},
     "output_type": "display_data"
    }
   ],
   "source": [
    "device_counts = df.groupby('device')['device'].count()\n",
    "\n",
    "plt.subplots(figsize = (6,4))\n",
    "device_counts.plot(kind='barh',xlabel='',title='Nunber of Contributions by Device Type')\n",
    "plt.show()"
   ]
  },
  {
   "cell_type": "markdown",
   "id": "af2c9925-894c-4603-b610-c9fd32d47817",
   "metadata": {},
   "source": [
    "The graph shows us that **iOS users made almost twice as many contributions** as Andriod users, making this segment more important to market to. "
   ]
  },
  {
   "cell_type": "markdown",
   "id": "962c8a69-d2af-4190-b306-a58358a1bbe1",
   "metadata": {},
   "source": [
    "## Most Contributions by Age Group\n",
    "The last segment we must examine is the contributions for each age range."
   ]
  },
  {
   "cell_type": "code",
   "execution_count": null,
   "id": "98650ec6-737e-4f25-ad8f-95c2bfdcbaa6",
   "metadata": {},
   "outputs": [
    {
     "data": {
      "image/png": "[encoded data removed]",
      "text/plain": [
       "<Figure size 576x432 with 1 Axes>"
      ]
     },
     "metadata": {},
     "output_type": "display_data"
    }
   ],
   "source": [
    "age_totals = df.groupby('age')['amount'].sum()\n",
    "\n",
    "plt.subplots(figsize = (8,6))\n",
    "age_totals.plot(kind='barh',title='Total Contributions by Age Range', xlabel='Age Bracket', ylabel='Amount($)')\n",
    "plt.show()"
   ]
  },
  {
   "cell_type": "markdown",
   "id": "3f5ba6e9-81e3-49cd-976a-495201a518cb",
   "metadata": {},
   "source": [
    "Here, we see that **18-24 year olds contributed almost four times as much as the other age ranges.** This makes them the most important age group to target in our campaign. "
   ]
  },
  {
   "cell_type": "markdown",
   "id": "2716661a-ee5d-49c9-8c01-f05d047ad6f2",
   "metadata": {},
   "source": [
    "## Conbined Visualization\n",
    "We can now create a single visualization that shows all of our findings:"
   ]
  },
  {
   "cell_type": "code",
   "execution_count": null,
   "id": "87f5d6d2-c4d6-4bf4-ae80-30e305b6a6c0",
   "metadata": {},
   "outputs": [
    {
     "data": {
      "application/vnd.plotly.v1+json": {
       "config": {
        "plotlyServerURL": "https://plot.ly"
       },
       "data": [
        {
         "branchvalues": "total",
         "domain": {
          "x": [
           0,
           1
          ],
          "y": [
           0,
           1
          ]
         },
         "hovertemplate": "labels=%{label}<br>amount=%{value}<br>parent=%{parent}<br>id=%{id}<extra></extra>",
         "ids": [
          "All Contributions/18-24/android/Environment",
          "All Contributions/25-34/android/Environment",
          "All Contributions/35-44/android/Environment",
          "All Contributions/45-54/android/Environment",
          "All Contributions/55+/android/Environment",
          "All Contributions/18-24/iOS/Environment",
          "All Contributions/25-34/iOS/Environment",
          "All Contributions/35-44/iOS/Environment",
          "All Contributions/45-54/iOS/Environment",
          "All Contributions/55+/iOS/Environment",
          "All Contributions/18-24/android/Fashion",
          "All Contributions/25-34/android/Fashion",
          "All Contributions/35-44/android/Fashion",
          "All Contributions/45-54/android/Fashion",
          "All Contributions/55+/android/Fashion",
          "All Contributions/18-24/iOS/Fashion",
          "All Contributions/25-34/iOS/Fashion",
          "All Contributions/35-44/iOS/Fashion",
          "All Contributions/45-54/iOS/Fashion",
          "All Contributions/55+/iOS/Fashion",
          "All Contributions/18-24/android/Games",
          "All Contributions/25-34/android/Games",
          "All Contributions/35-44/android/Games",
          "All Contributions/45-54/android/Games",
          "All Contributions/55+/android/Games",
          "All Contributions/18-24/iOS/Games",
          "All Contributions/25-34/iOS/Games",
          "All Contributions/35-44/iOS/Games",
          "All Contributions/45-54/iOS/Games",
          "All Contributions/55+/iOS/Games",
          "All Contributions/18-24/android/Sports",
          "All Contributions/25-34/android/Sports",
          "All Contributions/35-44/android/Sports",
          "All Contributions/45-54/android/Sports",
          "All Contributions/55+/android/Sports",
          "All Contributions/18-24/iOS/Sports",
          "All Contributions/25-34/iOS/Sports",
          "All Contributions/35-44/iOS/Sports",
          "All Contributions/45-54/iOS/Sports",
          "All Contributions/55+/iOS/Sports",
          "All Contributions/18-24/android/Technology",
          "All Contributions/25-34/android/Technology",
          "All Contributions/35-44/android/Technology",
          "All Contributions/45-54/android/Technology",
          "All Contributions/55+/android/Technology",
          "All Contributions/18-24/iOS/Technology",
          "All Contributions/25-34/iOS/Technology",
          "All Contributions/35-44/iOS/Technology",
          "All Contributions/45-54/iOS/Technology",
          "All Contributions/55+/iOS/Technology",
          "All Contributions/18-24/android",
          "All Contributions/25-34/android",
          "All Contributions/35-44/android",
          "All Contributions/45-54/android",
          "All Contributions/55+/android",
          "All Contributions/18-24/iOS",
          "All Contributions/25-34/iOS",
          "All Contributions/35-44/iOS",
          "All Contributions/45-54/iOS",
          "All Contributions/55+/iOS",
          "All Contributions/18-24",
          "All Contributions/25-34",
          "All Contributions/35-44",
          "All Contributions/45-54",
          "All Contributions/55+",
          "All Contributions"
         ],
         "labels": [
          "Environment",
          "Environment",
          "Environment",
          "Environment",
          "Environment",
          "Environment",
          "Environment",
          "Environment",
          "Environment",
          "Environment",
          "Fashion",
          "Fashion",
          "Fashion",
          "Fashion",
          "Fashion",
          "Fashion",
          "Fashion",
          "Fashion",
          "Fashion",
          "Fashion",
          "Games",
          "Games",
          "Games",
          "Games",
          "Games",
          "Games",
          "Games",
          "Games",
          "Games",
          "Games",
          "Sports",
          "Sports",
          "Sports",
          "Sports",
          "Sports",
          "Sports",
          "Sports",
          "Sports",
          "Sports",
          "Sports",
          "Technology",
          "Technology",
          "Technology",
          "Technology",
          "Technology",
          "Technology",
          "Technology",
          "Technology",
          "Technology",
          "Technology",
          "android",
          "android",
          "android",
          "android",
          "android",
          "iOS",
          "iOS",
          "iOS",
          "iOS",
          "iOS",
          "18-24",
          "25-34",
          "35-44",
          "45-54",
          "55+",
          "All Contributions"
         ],
         "name": "",
         "parents": [
          "All Contributions/18-24/android",
          "All Contributions/25-34/android",
          "All Contributions/35-44/android",
          "All Contributions/45-54/android",
          "All Contributions/55+/android",
          "All Contributions/18-24/iOS",
          "All Contributions/25-34/iOS",
          "All Contributions/35-44/iOS",
          "All Contributions/45-54/iOS",
          "All Contributions/55+/iOS",
          "All Contributions/18-24/android",
          "All Contributions/25-34/android",
          "All Contributions/35-44/android",
          "All Contributions/45-54/android",
          "All Contributions/55+/android",
          "All Contributions/18-24/iOS",
          "All Contributions/25-34/iOS",
          "All Contributions/35-44/iOS",
          "All Contributions/45-54/iOS",
          "All Contributions/55+/iOS",
          "All Contributions/18-24/android",
          "All Contributions/25-34/android",
          "All Contributions/35-44/android",
          "All Contributions/45-54/android",
          "All Contributions/55+/android",
          "All Contributions/18-24/iOS",
          "All Contributions/25-34/iOS",
          "All Contributions/35-44/iOS",
          "All Contributions/45-54/iOS",
          "All Contributions/55+/iOS",
          "All Contributions/18-24/android",
          "All Contributions/25-34/android",
          "All Contributions/35-44/android",
          "All Contributions/45-54/android",
          "All Contributions/55+/android",
          "All Contributions/18-24/iOS",
          "All Contributions/25-34/iOS",
          "All Contributions/35-44/iOS",
          "All Contributions/45-54/iOS",
          "All Contributions/55+/iOS",
          "All Contributions/18-24/android",
          "All Contributions/25-34/android",
          "All Contributions/35-44/android",
          "All Contributions/45-54/android",
          "All Contributions/55+/android",
          "All Contributions/18-24/iOS",
          "All Contributions/25-34/iOS",
          "All Contributions/35-44/iOS",
          "All Contributions/45-54/iOS",
          "All Contributions/55+/iOS",
          "All Contributions/18-24",
          "All Contributions/25-34",
          "All Contributions/35-44",
          "All Contributions/45-54",
          "All Contributions/55+",
          "All Contributions/18-24",
          "All Contributions/25-34",
          "All Contributions/35-44",
          "All Contributions/45-54",
          "All Contributions/55+",
          "All Contributions",
          "All Contributions",
          "All Contributions",
          "All Contributions",
          "All Contributions",
          ""
         ],
         "root": {
          "color": "lightgray"
         },
         "type": "treemap",
         "values": [
          28093,
          6989,
          6821,
          7185,
          6711,
          53769,
          12929,
          13537,
          12659,
          13683,
          28137,
          5708,
          6528,
          6569,
          7312,
          52913,
          13745,
          14246,
          12742,
          12052,
          30354,
          6916,
          6852,
          5812,
          6709,
          55820,
          12609,
          14724,
          12726,
          12961,
          30026,
          7043,
          6820,
          8337,
          6722,
          52700,
          13102,
          13971,
          11705,
          13102,
          28230,
          7405,
          7959,
          7381,
          6926,
          51035,
          13317,
          14139,
          13579,
          12760,
          144840,
          34061,
          34980,
          35284,
          34380,
          266237,
          65702,
          70617,
          63411,
          64558,
          411077,
          99763,
          105597,
          98695,
          98938,
          814070
         ]
        }
       ],
       "layout": {
        "autosize": true,
        "legend": {
         "tracegroupgap": 0
        },
        "margin": {
         "b": 25,
         "l": 25,
         "r": 25,
         "t": 50
        },
        "template": {
         "data": {
          "bar": [
           {
            "error_x": {
             "color": "#2a3f5f"
            },
            "error_y": {
             "color": "#2a3f5f"
            },
            "marker": {
             "line": {
              "color": "#E5ECF6",
              "width": 0.5
             },
             "pattern": {
              "fillmode": "overlay",
              "size": 10,
              "solidity": 0.2
             }
            },
            "type": "bar"
           }
          ],
          "barpolar": [
           {
            "marker": {
             "line": {
              "color": "#E5ECF6",
              "width": 0.5
             },
             "pattern": {
              "fillmode": "overlay",
              "size": 10,
              "solidity": 0.2
             }
            },
            "type": "barpolar"
           }
          ],
          "carpet": [
           {
            "aaxis": {
             "endlinecolor": "#2a3f5f",
             "gridcolor": "white",
             "linecolor": "white",
             "minorgridcolor": "white",
             "startlinecolor": "#2a3f5f"
            },
            "baxis": {
             "endlinecolor": "#2a3f5f",
             "gridcolor": "white",
             "linecolor": "white",
             "minorgridcolor": "white",
             "startlinecolor": "#2a3f5f"
            },
            "type": "carpet"
           }
          ],
          "choropleth": [
           {
            "colorbar": {
             "outlinewidth": 0,
             "ticks": ""
            },
            "type": "choropleth"
           }
          ],
          "contour": [
           {
            "colorbar": {
             "outlinewidth": 0,
             "ticks": ""
            },
            "colorscale": [
             [
              0,
              "#0d0887"
             ],
             [
              0.1111111111111111,
              "#46039f"
             ],
             [
              0.2222222222222222,
              "#7201a8"
             ],
             [
              0.3333333333333333,
              "#9c179e"
             ],
             [
              0.4444444444444444,
              "#bd3786"
             ],
             [
              0.5555555555555556,
              "#d8576b"
             ],
             [
              0.6666666666666666,
              "#ed7953"
             ],
             [
              0.7777777777777778,
              "#fb9f3a"
             ],
             [
              0.8888888888888888,
              "#fdca26"
             ],
             [
              1,
              "#f0f921"
             ]
            ],
            "type": "contour"
           }
          ],
          "contourcarpet": [
           {
            "colorbar": {
             "outlinewidth": 0,
             "ticks": ""
            },
            "type": "contourcarpet"
           }
          ],
          "heatmap": [
           {
            "colorbar": {
             "outlinewidth": 0,
             "ticks": ""
            },
            "colorscale": [
             [
              0,
              "#0d0887"
             ],
             [
              0.1111111111111111,
              "#46039f"
             ],
             [
              0.2222222222222222,
              "#7201a8"
             ],
             [
              0.3333333333333333,
              "#9c179e"
             ],
             [
              0.4444444444444444,
              "#bd3786"
             ],
             [
              0.5555555555555556,
              "#d8576b"
             ],
             [
              0.6666666666666666,
              "#ed7953"
             ],
             [
              0.7777777777777778,
              "#fb9f3a"
             ],
             [
              0.8888888888888888,
              "#fdca26"
             ],
             [
              1,
              "#f0f921"
             ]
            ],
            "type": "heatmap"
           }
          ],
          "heatmapgl": [
           {
            "colorbar": {
             "outlinewidth": 0,
             "ticks": ""
            },
            "colorscale": [
             [
              0,
              "#0d0887"
             ],
             [
              0.1111111111111111,
              "#46039f"
             ],
             [
              0.2222222222222222,
              "#7201a8"
             ],
             [
              0.3333333333333333,
              "#9c179e"
             ],
             [
              0.4444444444444444,
              "#bd3786"
             ],
             [
              0.5555555555555556,
              "#d8576b"
             ],
             [
              0.6666666666666666,
              "#ed7953"
             ],
             [
              0.7777777777777778,
              "#fb9f3a"
             ],
             [
              0.8888888888888888,
              "#fdca26"
             ],
             [
              1,
              "#f0f921"
             ]
            ],
            "type": "heatmapgl"
           }
          ],
          "histogram": [
           {
            "marker": {
             "pattern": {
              "fillmode": "overlay",
              "size": 10,
              "solidity": 0.2
             }
            },
            "type": "histogram"
           }
          ],
          "histogram2d": [
           {
            "colorbar": {
             "outlinewidth": 0,
             "ticks": ""
            },
            "colorscale": [
             [
              0,
              "#0d0887"
             ],
             [
              0.1111111111111111,
              "#46039f"
             ],
             [
              0.2222222222222222,
              "#7201a8"
             ],
             [
              0.3333333333333333,
              "#9c179e"
             ],
             [
              0.4444444444444444,
              "#bd3786"
             ],
             [
              0.5555555555555556,
              "#d8576b"
             ],
             [
              0.6666666666666666,
              "#ed7953"
             ],
             [
              0.7777777777777778,
              "#fb9f3a"
             ],
             [
              0.8888888888888888,
              "#fdca26"
             ],
             [
              1,
              "#f0f921"
             ]
            ],
            "type": "histogram2d"
           }
          ],
          "histogram2dcontour": [
           {
            "colorbar": {
             "outlinewidth": 0,
             "ticks": ""
            },
            "colorscale": [
             [
              0,
              "#0d0887"
             ],
             [
              0.1111111111111111,
              "#46039f"
             ],
             [
              0.2222222222222222,
              "#7201a8"
             ],
             [
              0.3333333333333333,
              "#9c179e"
             ],
             [
              0.4444444444444444,
              "#bd3786"
             ],
             [
              0.5555555555555556,
              "#d8576b"
             ],
             [
              0.6666666666666666,
              "#ed7953"
             ],
             [
              0.7777777777777778,
              "#fb9f3a"
             ],
             [
              0.8888888888888888,
              "#fdca26"
             ],
             [
              1,
              "#f0f921"
             ]
            ],
            "type": "histogram2dcontour"
           }
          ],
          "mesh3d": [
           {
            "colorbar": {
             "outlinewidth": 0,
             "ticks": ""
            },
            "type": "mesh3d"
           }
          ],
          "parcoords": [
           {
            "line": {
             "colorbar": {
              "outlinewidth": 0,
              "ticks": ""
             }
            },
            "type": "parcoords"
           }
          ],
          "pie": [
           {
            "automargin": true,
            "type": "pie"
           }
          ],
          "scatter": [
           {
            "marker": {
             "colorbar": {
              "outlinewidth": 0,
              "ticks": ""
             }
            },
            "type": "scatter"
           }
          ],
          "scatter3d": [
           {
            "line": {
             "colorbar": {
              "outlinewidth": 0,
              "ticks": ""
             }
            },
            "marker": {
             "colorbar": {
              "outlinewidth": 0,
              "ticks": ""
             }
            },
            "type": "scatter3d"
           }
          ],
          "scattercarpet": [
           {
            "marker": {
             "colorbar": {
              "outlinewidth": 0,
              "ticks": ""
             }
            },
            "type": "scattercarpet"
           }
          ],
          "scattergeo": [
           {
            "marker": {
             "colorbar": {
              "outlinewidth": 0,
              "ticks": ""
             }
            },
            "type": "scattergeo"
           }
          ],
          "scattergl": [
           {
            "marker": {
             "colorbar": {
              "outlinewidth": 0,
              "ticks": ""
             }
            },
            "type": "scattergl"
           }
          ],
          "scattermapbox": [
           {
            "marker": {
             "colorbar": {
              "outlinewidth": 0,
              "ticks": ""
             }
            },
            "type": "scattermapbox"
           }
          ],
          "scatterpolar": [
           {
            "marker": {
             "colorbar": {
              "outlinewidth": 0,
              "ticks": ""
             }
            },
            "type": "scatterpolar"
           }
          ],
          "scatterpolargl": [
           {
            "marker": {
             "colorbar": {
              "outlinewidth": 0,
              "ticks": ""
             }
            },
            "type": "scatterpolargl"
           }
          ],
          "scatterternary": [
           {
            "marker": {
             "colorbar": {
              "outlinewidth": 0,
              "ticks": ""
             }
            },
            "type": "scatterternary"
           }
          ],
          "surface": [
           {
            "colorbar": {
             "outlinewidth": 0,
             "ticks": ""
            },
            "colorscale": [
             [
              0,
              "#0d0887"
             ],
             [
              0.1111111111111111,
              "#46039f"
             ],
             [
              0.2222222222222222,
              "#7201a8"
             ],
             [
              0.3333333333333333,
              "#9c179e"
             ],
             [
              0.4444444444444444,
              "#bd3786"
             ],
             [
              0.5555555555555556,
              "#d8576b"
             ],
             [
              0.6666666666666666,
              "#ed7953"
             ],
             [
              0.7777777777777778,
              "#fb9f3a"
             ],
             [
              0.8888888888888888,
              "#fdca26"
             ],
             [
              1,
              "#f0f921"
             ]
            ],
            "type": "surface"
           }
          ],
          "table": [
           {
            "cells": {
             "fill": {
              "color": "#EBF0F8"
             },
             "line": {
              "color": "white"
             }
            },
            "header": {
             "fill": {
              "color": "#C8D4E3"
             },
             "line": {
              "color": "white"
             }
            },
            "type": "table"
           }
          ]
         },
         "layout": {
          "annotationdefaults": {
           "arrowcolor": "#2a3f5f",
           "arrowhead": 0,
           "arrowwidth": 1
          },
          "autotypenumbers": "strict",
          "coloraxis": {
           "colorbar": {
            "outlinewidth": 0,
            "ticks": ""
           }
          },
          "colorscale": {
           "diverging": [
            [
             0,
             "#8e0152"
            ],
            [
             0.1,
             "#c51b7d"
            ],
            [
             0.2,
             "#de77ae"
            ],
            [
             0.3,
             "#f1b6da"
            ],
            [
             0.4,
             "#fde0ef"
            ],
            [
             0.5,
             "#f7f7f7"
            ],
            [
             0.6,
             "#e6f5d0"
            ],
            [
             0.7,
             "#b8e186"
            ],
            [
             0.8,
             "#7fbc41"
            ],
            [
             0.9,
             "#4d9221"
            ],
            [
             1,
             "#276419"
            ]
           ],
           "sequential": [
            [
             0,
             "#0d0887"
            ],
            [
             0.1111111111111111,
             "#46039f"
            ],
            [
             0.2222222222222222,
             "#7201a8"
            ],
            [
             0.3333333333333333,
             "#9c179e"
            ],
            [
             0.4444444444444444,
             "#bd3786"
            ],
            [
             0.5555555555555556,
             "#d8576b"
            ],
            [
             0.6666666666666666,
             "#ed7953"
            ],
            [
             0.7777777777777778,
             "#fb9f3a"
            ],
            [
             0.8888888888888888,
             "#fdca26"
            ],
            [
             1,
             "#f0f921"
            ]
           ],
           "sequentialminus": [
            [
             0,
             "#0d0887"
            ],
            [
             0.1111111111111111,
             "#46039f"
            ],
            [
             0.2222222222222222,
             "#7201a8"
            ],
            [
             0.3333333333333333,
             "#9c179e"
            ],
            [
             0.4444444444444444,
             "#bd3786"
            ],
            [
             0.5555555555555556,
             "#d8576b"
            ],
            [
             0.6666666666666666,
             "#ed7953"
            ],
            [
             0.7777777777777778,
             "#fb9f3a"
            ],
            [
             0.8888888888888888,
             "#fdca26"
            ],
            [
             1,
             "#f0f921"
            ]
           ]
          },
          "colorway": [
           "#636efa",
           "#EF553B",
           "#00cc96",
           "#ab63fa",
           "#FFA15A",
           "#19d3f3",
           "#FF6692",
           "#B6E880",
           "#FF97FF",
           "#FECB52"
          ],
          "font": {
           "color": "#2a3f5f"
          },
          "geo": {
           "bgcolor": "white",
           "lakecolor": "white",
           "landcolor": "#E5ECF6",
           "showlakes": true,
           "showland": true,
           "subunitcolor": "white"
          },
          "hoverlabel": {
           "align": "left"
          },
          "hovermode": "closest",
          "mapbox": {
           "style": "light"
          },
          "paper_bgcolor": "white",
          "plot_bgcolor": "#E5ECF6",
          "polar": {
           "angularaxis": {
            "gridcolor": "white",
            "linecolor": "white",
            "ticks": ""
           },
           "bgcolor": "#E5ECF6",
           "radialaxis": {
            "gridcolor": "white",
            "linecolor": "white",
            "ticks": ""
           }
          },
          "scene": {
           "xaxis": {
            "backgroundcolor": "#E5ECF6",
            "gridcolor": "white",
            "gridwidth": 2,
            "linecolor": "white",
            "showbackground": true,
            "ticks": "",
            "zerolinecolor": "white"
           },
           "yaxis": {
            "backgroundcolor": "#E5ECF6",
            "gridcolor": "white",
            "gridwidth": 2,
            "linecolor": "white",
            "showbackground": true,
            "ticks": "",
            "zerolinecolor": "white"
           },
           "zaxis": {
            "backgroundcolor": "#E5ECF6",
            "gridcolor": "white",
            "gridwidth": 2,
            "linecolor": "white",
            "showbackground": true,
            "ticks": "",
            "zerolinecolor": "white"
           }
          },
          "shapedefaults": {
           "line": {
            "color": "#2a3f5f"
           }
          },
          "ternary": {
           "aaxis": {
            "gridcolor": "white",
            "linecolor": "white",
            "ticks": ""
           },
           "baxis": {
            "gridcolor": "white",
            "linecolor": "white",
            "ticks": ""
           },
           "bgcolor": "#E5ECF6",
           "caxis": {
            "gridcolor": "white",
            "linecolor": "white",
            "ticks": ""
           }
          },
          "title": {
           "x": 0.05
          },
          "xaxis": {
           "automargin": true,
           "gridcolor": "white",
           "linecolor": "white",
           "ticks": "",
           "title": {
            "standoff": 15
           },
           "zerolinecolor": "white",
           "zerolinewidth": 2
          },
          "yaxis": {
           "automargin": true,
           "gridcolor": "white",
           "linecolor": "white",
           "ticks": "",
           "title": {
            "standoff": 15
           },
           "zerolinecolor": "white",
           "zerolinewidth": 2
          }
         }
        }
       }
      },
      "image/png": "[encoded data removed]",
      "text/html": [
       "<div>                            <div id=\"78d5bafe-1ad0-46b0-acde-243123f15882\" class=\"plotly-graph-div\" style=\"height:525px; width:100%;\"></div>            <script type=\"text/javascript\">                require([\"plotly\"], function(Plotly) {                    window.PLOTLYENV=window.PLOTLYENV || {};                                    if (document.getElementById(\"78d5bafe-1ad0-46b0-acde-243123f15882\")) {                    Plotly.newPlot(                        \"78d5bafe-1ad0-46b0-acde-243123f15882\",                        [{\"branchvalues\":\"total\",\"domain\":{\"x\":[0.0,1.0],\"y\":[0.0,1.0]},\"hovertemplate\":\"labels=%{label}<br>amount=%{value}<br>parent=%{parent}<br>id=%{id}<extra></extra>\",\"ids\":[\"All Contributions/18-24/android/Environment\",\"All Contributions/25-34/android/Environment\",\"All Contributions/35-44/android/Environment\",\"All Contributions/45-54/android/Environment\",\"All Contributions/55+/android/Environment\",\"All Contributions/18-24/iOS/Environment\",\"All Contributions/25-34/iOS/Environment\",\"All Contributions/35-44/iOS/Environment\",\"All Contributions/45-54/iOS/Environment\",\"All Contributions/55+/iOS/Environment\",\"All Contributions/18-24/android/Fashion\",\"All Contributions/25-34/android/Fashion\",\"All Contributions/35-44/android/Fashion\",\"All Contributions/45-54/android/Fashion\",\"All Contributions/55+/android/Fashion\",\"All Contributions/18-24/iOS/Fashion\",\"All Contributions/25-34/iOS/Fashion\",\"All Contributions/35-44/iOS/Fashion\",\"All Contributions/45-54/iOS/Fashion\",\"All Contributions/55+/iOS/Fashion\",\"All Contributions/18-24/android/Games\",\"All Contributions/25-34/android/Games\",\"All Contributions/35-44/android/Games\",\"All Contributions/45-54/android/Games\",\"All Contributions/55+/android/Games\",\"All Contributions/18-24/iOS/Games\",\"All Contributions/25-34/iOS/Games\",\"All Contributions/35-44/iOS/Games\",\"All Contributions/45-54/iOS/Games\",\"All Contributions/55+/iOS/Games\",\"All Contributions/18-24/android/Sports\",\"All Contributions/25-34/android/Sports\",\"All Contributions/35-44/android/Sports\",\"All Contributions/45-54/android/Sports\",\"All Contributions/55+/android/Sports\",\"All Contributions/18-24/iOS/Sports\",\"All Contributions/25-34/iOS/Sports\",\"All Contributions/35-44/iOS/Sports\",\"All Contributions/45-54/iOS/Sports\",\"All Contributions/55+/iOS/Sports\",\"All Contributions/18-24/android/Technology\",\"All Contributions/25-34/android/Technology\",\"All Contributions/35-44/android/Technology\",\"All Contributions/45-54/android/Technology\",\"All Contributions/55+/android/Technology\",\"All Contributions/18-24/iOS/Technology\",\"All Contributions/25-34/iOS/Technology\",\"All Contributions/35-44/iOS/Technology\",\"All Contributions/45-54/iOS/Technology\",\"All Contributions/55+/iOS/Technology\",\"All Contributions/18-24/android\",\"All Contributions/25-34/android\",\"All Contributions/35-44/android\",\"All Contributions/45-54/android\",\"All Contributions/55+/android\",\"All Contributions/18-24/iOS\",\"All Contributions/25-34/iOS\",\"All Contributions/35-44/iOS\",\"All Contributions/45-54/iOS\",\"All Contributions/55+/iOS\",\"All Contributions/18-24\",\"All Contributions/25-34\",\"All Contributions/35-44\",\"All Contributions/45-54\",\"All Contributions/55+\",\"All Contributions\"],\"labels\":[\"Environment\",\"Environment\",\"Environment\",\"Environment\",\"Environment\",\"Environment\",\"Environment\",\"Environment\",\"Environment\",\"Environment\",\"Fashion\",\"Fashion\",\"Fashion\",\"Fashion\",\"Fashion\",\"Fashion\",\"Fashion\",\"Fashion\",\"Fashion\",\"Fashion\",\"Games\",\"Games\",\"Games\",\"Games\",\"Games\",\"Games\",\"Games\",\"Games\",\"Games\",\"Games\",\"Sports\",\"Sports\",\"Sports\",\"Sports\",\"Sports\",\"Sports\",\"Sports\",\"Sports\",\"Sports\",\"Sports\",\"Technology\",\"Technology\",\"Technology\",\"Technology\",\"Technology\",\"Technology\",\"Technology\",\"Technology\",\"Technology\",\"Technology\",\"android\",\"android\",\"android\",\"android\",\"android\",\"iOS\",\"iOS\",\"iOS\",\"iOS\",\"iOS\",\"18-24\",\"25-34\",\"35-44\",\"45-54\",\"55+\",\"All Contributions\"],\"name\":\"\",\"parents\":[\"All Contributions/18-24/android\",\"All Contributions/25-34/android\",\"All Contributions/35-44/android\",\"All Contributions/45-54/android\",\"All Contributions/55+/android\",\"All Contributions/18-24/iOS\",\"All Contributions/25-34/iOS\",\"All Contributions/35-44/iOS\",\"All Contributions/45-54/iOS\",\"All Contributions/55+/iOS\",\"All Contributions/18-24/android\",\"All Contributions/25-34/android\",\"All Contributions/35-44/android\",\"All Contributions/45-54/android\",\"All Contributions/55+/android\",\"All Contributions/18-24/iOS\",\"All Contributions/25-34/iOS\",\"All Contributions/35-44/iOS\",\"All Contributions/45-54/iOS\",\"All Contributions/55+/iOS\",\"All Contributions/18-24/android\",\"All Contributions/25-34/android\",\"All Contributions/35-44/android\",\"All Contributions/45-54/android\",\"All Contributions/55+/android\",\"All Contributions/18-24/iOS\",\"All Contributions/25-34/iOS\",\"All Contributions/35-44/iOS\",\"All Contributions/45-54/iOS\",\"All Contributions/55+/iOS\",\"All Contributions/18-24/android\",\"All Contributions/25-34/android\",\"All Contributions/35-44/android\",\"All Contributions/45-54/android\",\"All Contributions/55+/android\",\"All Contributions/18-24/iOS\",\"All Contributions/25-34/iOS\",\"All Contributions/35-44/iOS\",\"All Contributions/45-54/iOS\",\"All Contributions/55+/iOS\",\"All Contributions/18-24/android\",\"All Contributions/25-34/android\",\"All Contributions/35-44/android\",\"All Contributions/45-54/android\",\"All Contributions/55+/android\",\"All Contributions/18-24/iOS\",\"All Contributions/25-34/iOS\",\"All Contributions/35-44/iOS\",\"All Contributions/45-54/iOS\",\"All Contributions/55+/iOS\",\"All Contributions/18-24\",\"All Contributions/25-34\",\"All Contributions/35-44\",\"All Contributions/45-54\",\"All Contributions/55+\",\"All Contributions/18-24\",\"All Contributions/25-34\",\"All Contributions/35-44\",\"All Contributions/45-54\",\"All Contributions/55+\",\"All Contributions\",\"All Contributions\",\"All Contributions\",\"All Contributions\",\"All Contributions\",\"\"],\"root\":{\"color\":\"lightgray\"},\"type\":\"treemap\",\"values\":[28093.0,6989.0,6821.0,7185.0,6711.0,53769.0,12929.0,13537.0,12659.0,13683.0,28137.0,5708.0,6528.0,6569.0,7312.0,52913.0,13745.0,14246.0,12742.0,12052.0,30354.0,6916.0,6852.0,5812.0,6709.0,55820.0,12609.0,14724.0,12726.0,12961.0,30026.0,7043.0,6820.0,8337.0,6722.0,52700.0,13102.0,13971.0,11705.0,13102.0,28230.0,7405.0,7959.0,7381.0,6926.0,51035.0,13317.0,14139.0,13579.0,12760.0,144840.0,34061.0,34980.0,35284.0,34380.0,266237.0,65702.0,70617.0,63411.0,64558.0,411077.0,99763.0,105597.0,98695.0,98938.0,814070.0]}],                        {\"legend\":{\"tracegroupgap\":0},\"margin\":{\"b\":25,\"l\":25,\"r\":25,\"t\":50},\"template\":{\"data\":{\"bar\":[{\"error_x\":{\"color\":\"#2a3f5f\"},\"error_y\":{\"color\":\"#2a3f5f\"},\"marker\":{\"line\":{\"color\":\"#E5ECF6\",\"width\":0.5},\"pattern\":{\"fillmode\":\"overlay\",\"size\":10,\"solidity\":0.2}},\"type\":\"bar\"}],\"barpolar\":[{\"marker\":{\"line\":{\"color\":\"#E5ECF6\",\"width\":0.5},\"pattern\":{\"fillmode\":\"overlay\",\"size\":10,\"solidity\":0.2}},\"type\":\"barpolar\"}],\"carpet\":[{\"aaxis\":{\"endlinecolor\":\"#2a3f5f\",\"gridcolor\":\"white\",\"linecolor\":\"white\",\"minorgridcolor\":\"white\",\"startlinecolor\":\"#2a3f5f\"},\"baxis\":{\"endlinecolor\":\"#2a3f5f\",\"gridcolor\":\"white\",\"linecolor\":\"white\",\"minorgridcolor\":\"white\",\"startlinecolor\":\"#2a3f5f\"},\"type\":\"carpet\"}],\"choropleth\":[{\"colorbar\":{\"outlinewidth\":0,\"ticks\":\"\"},\"type\":\"choropleth\"}],\"contour\":[{\"colorbar\":{\"outlinewidth\":0,\"ticks\":\"\"},\"colorscale\":[[0.0,\"#0d0887\"],[0.1111111111111111,\"#46039f\"],[0.2222222222222222,\"#7201a8\"],[0.3333333333333333,\"#9c179e\"],[0.4444444444444444,\"#bd3786\"],[0.5555555555555556,\"#d8576b\"],[0.6666666666666666,\"#ed7953\"],[0.7777777777777778,\"#fb9f3a\"],[0.8888888888888888,\"#fdca26\"],[1.0,\"#f0f921\"]],\"type\":\"contour\"}],\"contourcarpet\":[{\"colorbar\":{\"outlinewidth\":0,\"ticks\":\"\"},\"type\":\"contourcarpet\"}],\"heatmap\":[{\"colorbar\":{\"outlinewidth\":0,\"ticks\":\"\"},\"colorscale\":[[0.0,\"#0d0887\"],[0.1111111111111111,\"#46039f\"],[0.2222222222222222,\"#7201a8\"],[0.3333333333333333,\"#9c179e\"],[0.4444444444444444,\"#bd3786\"],[0.5555555555555556,\"#d8576b\"],[0.6666666666666666,\"#ed7953\"],[0.7777777777777778,\"#fb9f3a\"],[0.8888888888888888,\"#fdca26\"],[1.0,\"#f0f921\"]],\"type\":\"heatmap\"}],\"heatmapgl\":[{\"colorbar\":{\"outlinewidth\":0,\"ticks\":\"\"},\"colorscale\":[[0.0,\"#0d0887\"],[0.1111111111111111,\"#46039f\"],[0.2222222222222222,\"#7201a8\"],[0.3333333333333333,\"#9c179e\"],[0.4444444444444444,\"#bd3786\"],[0.5555555555555556,\"#d8576b\"],[0.6666666666666666,\"#ed7953\"],[0.7777777777777778,\"#fb9f3a\"],[0.8888888888888888,\"#fdca26\"],[1.0,\"#f0f921\"]],\"type\":\"heatmapgl\"}],\"histogram\":[{\"marker\":{\"pattern\":{\"fillmode\":\"overlay\",\"size\":10,\"solidity\":0.2}},\"type\":\"histogram\"}],\"histogram2d\":[{\"colorbar\":{\"outlinewidth\":0,\"ticks\":\"\"},\"colorscale\":[[0.0,\"#0d0887\"],[0.1111111111111111,\"#46039f\"],[0.2222222222222222,\"#7201a8\"],[0.3333333333333333,\"#9c179e\"],[0.4444444444444444,\"#bd3786\"],[0.5555555555555556,\"#d8576b\"],[0.6666666666666666,\"#ed7953\"],[0.7777777777777778,\"#fb9f3a\"],[0.8888888888888888,\"#fdca26\"],[1.0,\"#f0f921\"]],\"type\":\"histogram2d\"}],\"histogram2dcontour\":[{\"colorbar\":{\"outlinewidth\":0,\"ticks\":\"\"},\"colorscale\":[[0.0,\"#0d0887\"],[0.1111111111111111,\"#46039f\"],[0.2222222222222222,\"#7201a8\"],[0.3333333333333333,\"#9c179e\"],[0.4444444444444444,\"#bd3786\"],[0.5555555555555556,\"#d8576b\"],[0.6666666666666666,\"#ed7953\"],[0.7777777777777778,\"#fb9f3a\"],[0.8888888888888888,\"#fdca26\"],[1.0,\"#f0f921\"]],\"type\":\"histogram2dcontour\"}],\"mesh3d\":[{\"colorbar\":{\"outlinewidth\":0,\"ticks\":\"\"},\"type\":\"mesh3d\"}],\"parcoords\":[{\"line\":{\"colorbar\":{\"outlinewidth\":0,\"ticks\":\"\"}},\"type\":\"parcoords\"}],\"pie\":[{\"automargin\":true,\"type\":\"pie\"}],\"scatter\":[{\"marker\":{\"colorbar\":{\"outlinewidth\":0,\"ticks\":\"\"}},\"type\":\"scatter\"}],\"scatter3d\":[{\"line\":{\"colorbar\":{\"outlinewidth\":0,\"ticks\":\"\"}},\"marker\":{\"colorbar\":{\"outlinewidth\":0,\"ticks\":\"\"}},\"type\":\"scatter3d\"}],\"scattercarpet\":[{\"marker\":{\"colorbar\":{\"outlinewidth\":0,\"ticks\":\"\"}},\"type\":\"scattercarpet\"}],\"scattergeo\":[{\"marker\":{\"colorbar\":{\"outlinewidth\":0,\"ticks\":\"\"}},\"type\":\"scattergeo\"}],\"scattergl\":[{\"marker\":{\"colorbar\":{\"outlinewidth\":0,\"ticks\":\"\"}},\"type\":\"scattergl\"}],\"scattermapbox\":[{\"marker\":{\"colorbar\":{\"outlinewidth\":0,\"ticks\":\"\"}},\"type\":\"scattermapbox\"}],\"scatterpolar\":[{\"marker\":{\"colorbar\":{\"outlinewidth\":0,\"ticks\":\"\"}},\"type\":\"scatterpolar\"}],\"scatterpolargl\":[{\"marker\":{\"colorbar\":{\"outlinewidth\":0,\"ticks\":\"\"}},\"type\":\"scatterpolargl\"}],\"scatterternary\":[{\"marker\":{\"colorbar\":{\"outlinewidth\":0,\"ticks\":\"\"}},\"type\":\"scatterternary\"}],\"surface\":[{\"colorbar\":{\"outlinewidth\":0,\"ticks\":\"\"},\"colorscale\":[[0.0,\"#0d0887\"],[0.1111111111111111,\"#46039f\"],[0.2222222222222222,\"#7201a8\"],[0.3333333333333333,\"#9c179e\"],[0.4444444444444444,\"#bd3786\"],[0.5555555555555556,\"#d8576b\"],[0.6666666666666666,\"#ed7953\"],[0.7777777777777778,\"#fb9f3a\"],[0.8888888888888888,\"#fdca26\"],[1.0,\"#f0f921\"]],\"type\":\"surface\"}],\"table\":[{\"cells\":{\"fill\":{\"color\":\"#EBF0F8\"},\"line\":{\"color\":\"white\"}},\"header\":{\"fill\":{\"color\":\"#C8D4E3\"},\"line\":{\"color\":\"white\"}},\"type\":\"table\"}]},\"layout\":{\"annotationdefaults\":{\"arrowcolor\":\"#2a3f5f\",\"arrowhead\":0,\"arrowwidth\":1},\"autotypenumbers\":\"strict\",\"coloraxis\":{\"colorbar\":{\"outlinewidth\":0,\"ticks\":\"\"}},\"colorscale\":{\"diverging\":[[0,\"#8e0152\"],[0.1,\"#c51b7d\"],[0.2,\"#de77ae\"],[0.3,\"#f1b6da\"],[0.4,\"#fde0ef\"],[0.5,\"#f7f7f7\"],[0.6,\"#e6f5d0\"],[0.7,\"#b8e186\"],[0.8,\"#7fbc41\"],[0.9,\"#4d9221\"],[1,\"#276419\"]],\"sequential\":[[0.0,\"#0d0887\"],[0.1111111111111111,\"#46039f\"],[0.2222222222222222,\"#7201a8\"],[0.3333333333333333,\"#9c179e\"],[0.4444444444444444,\"#bd3786\"],[0.5555555555555556,\"#d8576b\"],[0.6666666666666666,\"#ed7953\"],[0.7777777777777778,\"#fb9f3a\"],[0.8888888888888888,\"#fdca26\"],[1.0,\"#f0f921\"]],\"sequentialminus\":[[0.0,\"#0d0887\"],[0.1111111111111111,\"#46039f\"],[0.2222222222222222,\"#7201a8\"],[0.3333333333333333,\"#9c179e\"],[0.4444444444444444,\"#bd3786\"],[0.5555555555555556,\"#d8576b\"],[0.6666666666666666,\"#ed7953\"],[0.7777777777777778,\"#fb9f3a\"],[0.8888888888888888,\"#fdca26\"],[1.0,\"#f0f921\"]]},\"colorway\":[\"#636efa\",\"#EF553B\",\"#00cc96\",\"#ab63fa\",\"#FFA15A\",\"#19d3f3\",\"#FF6692\",\"#B6E880\",\"#FF97FF\",\"#FECB52\"],\"font\":{\"color\":\"#2a3f5f\"},\"geo\":{\"bgcolor\":\"white\",\"lakecolor\":\"white\",\"landcolor\":\"#E5ECF6\",\"showlakes\":true,\"showland\":true,\"subunitcolor\":\"white\"},\"hoverlabel\":{\"align\":\"left\"},\"hovermode\":\"closest\",\"mapbox\":{\"style\":\"light\"},\"paper_bgcolor\":\"white\",\"plot_bgcolor\":\"#E5ECF6\",\"polar\":{\"angularaxis\":{\"gridcolor\":\"white\",\"linecolor\":\"white\",\"ticks\":\"\"},\"bgcolor\":\"#E5ECF6\",\"radialaxis\":{\"gridcolor\":\"white\",\"linecolor\":\"white\",\"ticks\":\"\"}},\"scene\":{\"xaxis\":{\"backgroundcolor\":\"#E5ECF6\",\"gridcolor\":\"white\",\"gridwidth\":2,\"linecolor\":\"white\",\"showbackground\":true,\"ticks\":\"\",\"zerolinecolor\":\"white\"},\"yaxis\":{\"backgroundcolor\":\"#E5ECF6\",\"gridcolor\":\"white\",\"gridwidth\":2,\"linecolor\":\"white\",\"showbackground\":true,\"ticks\":\"\",\"zerolinecolor\":\"white\"},\"zaxis\":{\"backgroundcolor\":\"#E5ECF6\",\"gridcolor\":\"white\",\"gridwidth\":2,\"linecolor\":\"white\",\"showbackground\":true,\"ticks\":\"\",\"zerolinecolor\":\"white\"}},\"shapedefaults\":{\"line\":{\"color\":\"#2a3f5f\"}},\"ternary\":{\"aaxis\":{\"gridcolor\":\"white\",\"linecolor\":\"white\",\"ticks\":\"\"},\"baxis\":{\"gridcolor\":\"white\",\"linecolor\":\"white\",\"ticks\":\"\"},\"bgcolor\":\"#E5ECF6\",\"caxis\":{\"gridcolor\":\"white\",\"linecolor\":\"white\",\"ticks\":\"\"}},\"title\":{\"x\":0.05},\"xaxis\":{\"automargin\":true,\"gridcolor\":\"white\",\"linecolor\":\"white\",\"ticks\":\"\",\"title\":{\"standoff\":15},\"zerolinecolor\":\"white\",\"zerolinewidth\":2},\"yaxis\":{\"automargin\":true,\"gridcolor\":\"white\",\"linecolor\":\"white\",\"ticks\":\"\",\"title\":{\"standoff\":15},\"zerolinecolor\":\"white\",\"zerolinewidth\":2}}}},                        {\"responsive\": true}                    ).then(function(){\n",
       "                            \n",
       "var gd = document.getElementById('78d5bafe-1ad0-46b0-acde-243123f15882');\n",
       "var x = new MutationObserver(function (mutations, observer) {{\n",
       "        var display = window.getComputedStyle(gd).display;\n",
       "        if (!display || display === 'none') {{\n",
       "            console.log([gd, 'removed!']);\n",
       "            Plotly.purge(gd);\n",
       "            observer.disconnect();\n",
       "        }}\n",
       "}});\n",
       "\n",
       "// Listen for the removal of the full notebook cells\n",
       "var notebookContainer = gd.closest('#notebook-container');\n",
       "if (notebookContainer) {{\n",
       "    x.observe(notebookContainer, {childList: true});\n",
       "}}\n",
       "\n",
       "// Listen for the clearing of the current output cell\n",
       "var outputEl = gd.closest('.output');\n",
       "if (outputEl) {{\n",
       "    x.observe(outputEl, {childList: true});\n",
       "}}\n",
       "\n",
       "                        })                };                });            </script>        </div>"
      ]
     },
     "metadata": {},
     "output_type": "display_data"
    }
   ],
   "source": [
    "fig = px.treemap(df, path=[px.Constant(\"All Contributions\"), 'age', 'device', 'category'], values='amount')\n",
    "fig.update_traces(root_color=\"lightgray\")\n",
    "fig.update_layout(margin = dict(t=50, l=25, r=25, b=25))\n",
    "fig.show()"
   ]
  },
  {
   "cell_type": "markdown",
   "id": "7e0a0c4f-51a7-408c-9e0f-0a5c90d35001",
   "metadata": {},
   "source": [
    "This treemap conveniently answers all our questions for the marketing campaign. The size of the boxes indicate contribution amounts, so we quickly see that 18-24 year old iOS users make up the largest share of age/device combinations. \n",
    "\n",
    "Overall, we saw that Games, Sports, and Technology were the highest contributing categories. However, **for 18-24 year old iOS users, Games, Environment, and Fashon were the highest-earning segments. Therefore, these would be the best sectors to target for a marketing campaign.**"
   ]
  }
 ],
 "metadata": {
  "kernelspec": {
   "display_name": "Python 3 (ipykernel)",
   "language": "python",
   "name": "python3"
  },
  "language_info": {
   "codemirror_mode": {
    "name": "ipython",
    "version": 3
   },
   "file_extension": ".py",
   "mimetype": "text/x-python",
   "name": "python",
   "nbconvert_exporter": "python",
   "pygments_lexer": "ipython3",
   "version": "3.8.10"
  }
 },
 "nbformat": 4,
 "nbformat_minor": 5
}
